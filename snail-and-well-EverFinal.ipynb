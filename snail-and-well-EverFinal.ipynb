{
 "cells": [
  {
   "cell_type": "markdown",
   "metadata": {},
   "source": [
    "<img src=\"https://bit.ly/2VnXWr2\" width=\"100\" align=\"left\">"
   ]
  },
  {
   "cell_type": "markdown",
   "metadata": {},
   "source": [
    "# The Snail and the Well\n",
    "\n",
    "A snail falls at the bottom of a 125 cm well. Each day the snail rises 30 cm. But at night, while sleeping, slides 20 cm because the walls are wet. How many days does it take for the snail to escape the well?\n",
    "\n",
    "**Hint**: The snail gets out of the well when it surpasses the 125cm of height.\n",
    "\n",
    "## Tools\n",
    "\n",
    "1. Loop: **while**\n",
    "2. Conditional statements: **if-else**\n",
    "3. Function: **print()**\n",
    "\n",
    "## Tasks\n",
    "\n",
    "#### 1. Assign the challenge data to variables with representative names: `well_height`, `daily_distance`, `nightly_distance` and `snail_position`."
   ]
  },
  {
   "cell_type": "code",
   "execution_count": 8,
   "metadata": {},
   "outputs": [],
   "source": [
    "well_height = 125\n",
    "daily_distance = 30\n",
    "nightly_distance = 20\n",
    "snail_position = 0"
   ]
  },
  {
   "cell_type": "markdown",
   "metadata": {},
   "source": [
    "#### 2. Create a variable `days` to keep count of the days that pass until the snail escapes the well. "
   ]
  },
  {
   "cell_type": "code",
   "execution_count": 9,
   "metadata": {},
   "outputs": [],
   "source": [
    "days = 0 "
   ]
  },
  {
   "cell_type": "markdown",
   "metadata": {},
   "source": [
    "#### 3. Find the solution to the challenge using the variables defined above. "
   ]
  },
  {
   "cell_type": "code",
   "execution_count": 10,
   "metadata": {},
   "outputs": [
    {
     "name": "stdout",
     "output_type": "stream",
     "text": [
      "El Caracol se cayó\n",
      "La posición del caracol intentando salir es 0 cm en el día 0\n",
      "La posición del caracol intentando salir es 10 cm en el día 1\n",
      "La posición del caracol intentando salir es 20 cm en el día 2\n",
      "La posición del caracol intentando salir es 30 cm en el día 3\n",
      "La posición del caracol intentando salir es 40 cm en el día 4\n",
      "La posición del caracol intentando salir es 50 cm en el día 5\n",
      "La posición del caracol intentando salir es 60 cm en el día 6\n",
      "La posición del caracol intentando salir es 70 cm en el día 7\n",
      "La posición del caracol intentando salir es 80 cm en el día 8\n",
      "La posición del caracol intentando salir es 90 cm en el día 9\n",
      "La posición del caracol intentando salir es 100 cm en el día 10\n",
      "La posición del caracol intentando salir es 110 cm en el día 11\n",
      "La posición del caracol intentando salir es 120 cm en el día 12\n",
      "La posición del caracol al salir es 130 cm en el día 13\n"
     ]
    }
   ],
   "source": [
    "print(\"El Caracol se cayó\")\n",
    "while snail_position <= well_height:\n",
    "    if snail_position <= well_height:\n",
    "       print(\"La posición del caracol intentando salir es\", snail_position, \"cm\",\"en el día\", days)\n",
    "       snail_position = snail_position + (daily_distance - nightly_distance)\n",
    "       days = days + 1 \n",
    "    else: \n",
    "        snail_position = snail_position\n",
    "        \n",
    "print(\"La posición del caracol al salir es\", snail_position, \"cm\",\"en el día\", days)"
   ]
  },
  {
   "cell_type": "markdown",
   "metadata": {},
   "source": [
    "#### 4. Print the solution."
   ]
  },
  {
   "cell_type": "code",
   "execution_count": 12,
   "metadata": {},
   "outputs": [
    {
     "name": "stdout",
     "output_type": "stream",
     "text": [
      "El caracol tardo 13 dias en salir y lo hizo reccoriendo 130 cm\n"
     ]
    }
   ],
   "source": [
    "print(\"El caracol tardo\",days,\"dias en salir y lo hizo reccoriendo\",snail_position,\"cm\")"
   ]
  },
  {
   "cell_type": "markdown",
   "metadata": {},
   "source": [
    "## Bonus\n",
    "The distance traveled by the snail each day is now defined by a list.\n",
    "```\n",
    "advance_cm = [30, 21, 33, 77, 44, 45, 23, 45, 12, 34, 55]\n",
    "```\n",
    "On the first day, the snail rises 30cm but during the night it slides 20cm. On the second day, the snail rises 21cm but during the night it slides 20cm, and so on. \n",
    "\n",
    "#### 1. How many days does it take for the snail to escape the well?\n",
    "Follow the same guidelines as in the previous challenge.\n",
    "\n",
    "**Hint**: Remember that the snail gets out of the well when it surpasses the 125cm of height."
   ]
  },
  {
   "cell_type": "code",
   "execution_count": 16,
   "metadata": {},
   "outputs": [
    {
     "name": "stdout",
     "output_type": "stream",
     "text": [
      "El Caracol se cayó\n",
      "La posición del caracol intentando salir es 0 cm en el día 0\n",
      "La posición del caracol intentando salir es 10 cm en el día 1\n",
      "La posición del caracol intentando salir es 11 cm en el día 2\n",
      "La posición del caracol intentando salir es 24 cm en el día 3\n",
      "La posición del caracol intentando salir es 81 cm en el día 4\n",
      "La posición del caracol intentando salir es 105 cm en el día 5\n",
      "La posición del caracol al salir es 130 cm en el día 6\n"
     ]
    }
   ],
   "source": [
    "well_height = 125\n",
    "snail_position = 0\n",
    "days = 0\n",
    "advance_cm = [30, 21, 33, 77, 44, 45, 23, 45, 12, 34, 55]\n",
    "daily_distance = 30\n",
    "nightly_distance = 20\n",
    "\n",
    "print(\"El Caracol se cayó\")\n",
    "while snail_position <= well_height:\n",
    "    if snail_position <= well_height:\n",
    "     print(\"La posición del caracol intentando salir es\", snail_position, \"cm\",\"en el día\", days)\n",
    "     snail_position = snail_position + (advance_cm[days] - nightly_distance)\n",
    "     days = days + 1\n",
    "    else: \n",
    "        snail_position = snail_position\n",
    "        \n",
    "print(\"La posición del caracol al salir es\", snail_position, \"cm\",\"en el día\", days)        \n",
    "        \n"
   ]
  },
  {
   "cell_type": "markdown",
   "metadata": {},
   "source": [
    "#### 2. What is its maximum displacement in one day? And its minimum? Calculate the displacement using only the travel distance of the days used to get out of the well. \n",
    "**Hint**: Remember that displacement means the total distance risen taking into account that the snail slides at night.  "
   ]
  },
  {
   "cell_type": "code",
   "execution_count": 17,
   "metadata": {},
   "outputs": [
    {
     "name": "stdout",
     "output_type": "stream",
     "text": [
      "[10, 1, 13, 57, 24, 25, 3, 25, -8, 14, 35]\n",
      "el valor maximo es 57 cm\n",
      "el valor minimo es -8 cm\n"
     ]
    }
   ],
   "source": [
    "list_distance = [i - nightly_distance for i in advance_cm]\n",
    "print(list_distance)\n",
    "\n",
    "print(\"el valor maximo es\",max(list_distance),\"cm\")\n",
    "print(\"el valor minimo es\",min(list_distance),\"cm\")\n"
   ]
  },
  {
   "cell_type": "markdown",
   "metadata": {},
   "source": [
    "#### 3. What is its average progress? Take into account the snail slides at night."
   ]
  },
  {
   "cell_type": "code",
   "execution_count": 18,
   "metadata": {},
   "outputs": [
    {
     "name": "stdout",
     "output_type": "stream",
     "text": [
      "el promedio de avance al día es 18.09090909090909 cm\n"
     ]
    }
   ],
   "source": [
    "mean = sum(list_distance)/len(list_distance)\n",
    "print(\"el promedio de avance al día es\",mean,\"cm\")"
   ]
  },
  {
   "cell_type": "markdown",
   "metadata": {},
   "source": [
    "#### 4. What is the standard deviation of its displacement? Take into account the snail slides at night."
   ]
  },
  {
   "cell_type": "code",
   "execution_count": 19,
   "metadata": {},
   "outputs": [
    {
     "data": {
      "text/plain": [
       "17.159437082600803"
      ]
     },
     "execution_count": 19,
     "metadata": {},
     "output_type": "execute_result"
    }
   ],
   "source": [
    "import numpy \n",
    "desv_standard = numpy.std(list_distance)\n",
    "desv_standard"
   ]
  },
  {
   "cell_type": "code",
   "execution_count": null,
   "metadata": {},
   "outputs": [],
   "source": []
  }
 ],
 "metadata": {
  "kernelspec": {
   "display_name": "Python 3",
   "language": "python",
   "name": "python3"
  },
  "language_info": {
   "codemirror_mode": {
    "name": "ipython",
    "version": 3
   },
   "file_extension": ".py",
   "mimetype": "text/x-python",
   "name": "python",
   "nbconvert_exporter": "python",
   "pygments_lexer": "ipython3",
   "version": "3.8.8"
  }
 },
 "nbformat": 4,
 "nbformat_minor": 2
}
